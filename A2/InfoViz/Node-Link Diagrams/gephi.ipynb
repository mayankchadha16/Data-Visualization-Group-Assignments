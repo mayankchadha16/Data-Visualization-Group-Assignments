{
 "cells": [
  {
   "cell_type": "code",
   "execution_count": 5,
   "metadata": {},
   "outputs": [],
   "source": [
    "import csv\n",
    "\n",
    "data = []\n",
    "i = 0\n",
    "with open('download.tsv.asoiaf/asoiaf/out.asoiaf', 'r') as file:\n",
    "    for line in file:\n",
    "        if (i == 0):\n",
    "            i += 1\n",
    "            continue\n",
    "        parts = line.split()\n",
    "        # print(parts)\n",
    "        if len(parts) >= 2:\n",
    "            from_node, to_node = int(parts[0]), int(parts[1])\n",
    "            weight = int(parts[2]) if len(parts) == 3 else 1\n",
    "            data.append((from_node, to_node, weight))\n",
    "        i += 1"
   ]
  },
  {
   "cell_type": "code",
   "execution_count": 6,
   "metadata": {},
   "outputs": [],
   "source": [
    "nodes = set()\n",
    "edges = []\n",
    "\n",
    "for edge in data:\n",
    "    nodes.add(edge[0])\n",
    "    nodes.add(edge[1])\n",
    "    edges.append(edge)\n",
    "\n",
    "with open('nodes.csv', 'w', newline='') as node_file:\n",
    "    writer = csv.writer(node_file)\n",
    "    writer.writerow(['Id'])\n",
    "    for node in nodes:\n",
    "        writer.writerow([node])\n",
    "\n",
    "with open('edges.csv', 'w', newline='') as edge_file:\n",
    "    writer = csv.writer(edge_file)\n",
    "    writer.writerow(['Source', 'Target', 'Weight'])\n",
    "    for edge in edges:\n",
    "        writer.writerow([edge[0], edge[1], edge[2]])"
   ]
  },
  {
   "cell_type": "code",
   "execution_count": null,
   "metadata": {},
   "outputs": [],
   "source": []
  }
 ],
 "metadata": {
  "kernelspec": {
   "display_name": "Python 3",
   "language": "python",
   "name": "python3"
  },
  "language_info": {
   "codemirror_mode": {
    "name": "ipython",
    "version": 3
   },
   "file_extension": ".py",
   "mimetype": "text/x-python",
   "name": "python",
   "nbconvert_exporter": "python",
   "pygments_lexer": "ipython3",
   "version": "3.8.10"
  },
  "orig_nbformat": 4
 },
 "nbformat": 4,
 "nbformat_minor": 2
}

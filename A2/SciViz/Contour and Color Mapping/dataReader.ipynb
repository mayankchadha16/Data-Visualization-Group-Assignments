{
 "cells": [
  {
   "cell_type": "code",
   "execution_count": 104,
   "metadata": {},
   "outputs": [],
   "source": [
    "import csv\n",
    "\n",
    "input_file = './d1.txt'\n",
    "output_file = 'output.csv'\n",
    "\n",
    "latitudes = []\n",
    "longitudes = []\n",
    "values = []"
   ]
  },
  {
   "cell_type": "code",
   "execution_count": 105,
   "metadata": {},
   "outputs": [
    {
     "data": {
      "text/plain": [
       "'** line too long **\\n'"
      ]
     },
     "execution_count": 105,
     "metadata": {},
     "output_type": "execute_result"
    }
   ],
   "source": [
    "with open(input_file, 'r') as file:\n",
    "    lines = file.readlines()\n",
    "\n",
    "lines = lines[6:]\n",
    "headers = lines[0].split(' \t')[1:]  \n",
    "row_labels = [line.split('\\t')[0] for line in lines[1:]]\n",
    "\n",
    "lines = lines[1:]\n",
    "headers.pop()"
   ]
  },
  {
   "cell_type": "code",
   "execution_count": 106,
   "metadata": {},
   "outputs": [
    {
     "data": {
      "text/plain": [
       "7208"
      ]
     },
     "execution_count": 106,
     "metadata": {},
     "output_type": "execute_result"
    }
   ],
   "source": [
    "len(lines[0])"
   ]
  },
  {
   "cell_type": "code",
   "execution_count": 107,
   "metadata": {},
   "outputs": [
    {
     "data": {
      "text/plain": [
       "'99.625W'"
      ]
     },
     "execution_count": 107,
     "metadata": {},
     "output_type": "execute_result"
    }
   ],
   "source": [
    "headers[-1]"
   ]
  },
  {
   "cell_type": "code",
   "execution_count": 108,
   "metadata": {},
   "outputs": [
    {
     "data": {
      "text/plain": [
       "1440"
      ]
     },
     "execution_count": 108,
     "metadata": {},
     "output_type": "execute_result"
    }
   ],
   "source": [
    "start = float(headers[-1][:-1])\n",
    "step = float(headers[-1][:-1]) - float(headers[-2][:-1])\n",
    "count = 399\n",
    "\n",
    "sequence = [f\"{start + i * step:.3f}W\" for i in range(1, count)]\n",
    "\n",
    "headers.extend(sequence)\n",
    "len(headers)"
   ]
  },
  {
   "cell_type": "code",
   "execution_count": 109,
   "metadata": {},
   "outputs": [],
   "source": [
    "mini = 100000000\n",
    "for line in lines:\n",
    "    values_per_row = line.split('\\t')\n",
    "    mini = min(mini, len(values_per_row))\n",
    "    # values.extend(values_per_row)\n",
    "# values = [float(ele) for ele in values]\n",
    "mini -= 1;"
   ]
  },
  {
   "cell_type": "code",
   "execution_count": 110,
   "metadata": {},
   "outputs": [],
   "source": [
    "headers = headers[:mini - 1]"
   ]
  },
  {
   "cell_type": "code",
   "execution_count": 111,
   "metadata": {},
   "outputs": [],
   "source": [
    "for line in lines:\n",
    "\tvalues.append(line.split('\\t')[1:mini])\n",
    "\n",
    "# values = [float(ele) for ele in values]"
   ]
  },
  {
   "cell_type": "code",
   "execution_count": 112,
   "metadata": {},
   "outputs": [],
   "source": [
    "# for label in row_labels:\n",
    "for header in headers:\n",
    "\tif(header[-1] == 'E'):\n",
    "\t\tlongitudes.append(float(header[:-1]))\n",
    "\telse:\n",
    "\t\tlongitudes.append(float(header[:-1]) * -1)\n",
    "\n",
    "\t\t# if(label[-1] == 'S'):\n",
    "\t\t# \tlatitudes.append(float(label[:-1]) * -1)\n",
    "\t\t# else:\n",
    "\t\t# \tlatitudes.append(float(label[:-1]));\t\t\n",
    "\n",
    "for label in row_labels:\n",
    "\t\tif(label[-1] == 'S'):\n",
    "\t\t\tlatitudes.append(float(label[:-1]) * -1)\n",
    "\t\telse:\n",
    "\t\t\tlatitudes.append(float(label[:-1]));\t"
   ]
  },
  {
   "cell_type": "code",
   "execution_count": 113,
   "metadata": {},
   "outputs": [],
   "source": [
    "with open(output_file, 'w', newline='') as csv_file:\n",
    "\twriter = csv.writer(csv_file)\n",
    "\t# writer.writerow(['Latitude', 'Longitude', 'Value'])\n",
    "\tfirst_row = ['Latitude']\n",
    "\tfirst_row.extend(longitudes)\n",
    "\twriter.writerow(first_row)\n",
    "\t# writer.writerow(longitudes)\n",
    "\tfor latitude, value in zip(latitudes, values):\n",
    "\t\trow = [latitude]\n",
    "\t\trow.extend(value)\n",
    "\t\twriter.writerow(row)"
   ]
  }
 ],
 "metadata": {
  "kernelspec": {
   "display_name": "Python 3",
   "language": "python",
   "name": "python3"
  },
  "language_info": {
   "codemirror_mode": {
    "name": "ipython",
    "version": 3
   },
   "file_extension": ".py",
   "mimetype": "text/x-python",
   "name": "python",
   "nbconvert_exporter": "python",
   "pygments_lexer": "ipython3",
   "version": "3.8.10"
  }
 },
 "nbformat": 4,
 "nbformat_minor": 2
}

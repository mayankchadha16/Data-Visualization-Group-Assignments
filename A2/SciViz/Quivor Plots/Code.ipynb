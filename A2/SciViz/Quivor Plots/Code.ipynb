{
 "cells": [
  {
   "cell_type": "code",
   "execution_count": 1,
   "metadata": {},
   "outputs": [],
   "source": [
    "import csv\n",
    "import re\n",
    "\n",
    "input_file1 = 'Data_zonal.txt'\n",
    "input_file2 = 'Data_meridional.txt'\n",
    "output_file = 'output.csv'\n",
    "\n",
    "latitudes = []\n",
    "longitudes = []\n",
    "values_zonal = []\n",
    "values_meridional = []"
   ]
  },
  {
   "cell_type": "code",
   "execution_count": 2,
   "metadata": {},
   "outputs": [],
   "source": [
    "with open(input_file1, 'r') as file:\n",
    "    lines = file.readlines()\n",
    "\n",
    "headers = re.split(r'\\s+', lines[0])[1:]  \n",
    "row_labels = [line.split('\\t')[0] for line in lines[1:]]\n",
    "\n",
    "# row_labels = [x[:-1] for x in row_labels]\n",
    "# headers = [x[:-1] for x in headers]\n",
    "\n",
    "headers.pop()\n",
    "\n",
    "mini = 100000000\n",
    "for line in lines[1:]:\n",
    "    values_per_row = line.split('\\t')[1:]\n",
    "    mini = min(mini, len(values_per_row))\n",
    "    values_zonal.extend(values_per_row)\n",
    "values_zonal = [float(ele) for ele in values_zonal]"
   ]
  },
  {
   "cell_type": "code",
   "execution_count": 3,
   "metadata": {},
   "outputs": [],
   "source": [
    "with open(input_file2, 'r') as file:\n",
    "    lines = file.readlines()\n",
    "\n",
    "headers = re.split(r'\\s+', lines[0])[1:]  \n",
    "row_labels = [line.split('\\t')[0] for line in lines[1:]]\n",
    "\n",
    "# row_labels = [x[:-1] for x in row_labels]\n",
    "# headers = [x[:-1] for x in headers]\n",
    "\n",
    "headers.pop()\n",
    "\n",
    "mini = 100000000\n",
    "for line in lines[1:]:\n",
    "    values_per_row = line.split('\\t')[1:]\n",
    "    mini = min(mini, len(values_per_row))\n",
    "    values_meridional.extend(values_per_row)\n",
    "values_meridional = [float(ele) for ele in values_meridional]"
   ]
  },
  {
   "cell_type": "code",
   "execution_count": 4,
   "metadata": {},
   "outputs": [],
   "source": [
    "for label in row_labels:\n",
    "    for header in headers:\n",
    "        # print(label)\n",
    "        if(label[-1] == 'S'):\n",
    "            temp = label[:-1]\n",
    "            latitudes.append(float(temp) * -1)\n",
    "        else:\n",
    "            temp = label[:-1]\n",
    "            latitudes.append(float(temp))\n",
    "\n",
    "        # print(header)\n",
    "        if(header[-1] == 'E'):\n",
    "            temp = header[:-1]\n",
    "            longitudes.append(float(temp))\n",
    "        else:\n",
    "            temp = header[:-1]\n",
    "            longitudes.append(float(temp) * -1)\n"
   ]
  },
  {
   "cell_type": "code",
   "execution_count": 5,
   "metadata": {},
   "outputs": [
    {
     "data": {
      "text/plain": [
       "-89.75"
      ]
     },
     "execution_count": 5,
     "metadata": {},
     "output_type": "execute_result"
    }
   ],
   "source": [
    "latitudes[0]"
   ]
  },
  {
   "cell_type": "code",
   "execution_count": 6,
   "metadata": {},
   "outputs": [
    {
     "data": {
      "text/plain": [
       "0.0"
      ]
     },
     "execution_count": 6,
     "metadata": {},
     "output_type": "execute_result"
    }
   ],
   "source": [
    "longitudes[0]"
   ]
  },
  {
   "cell_type": "code",
   "execution_count": 7,
   "metadata": {},
   "outputs": [],
   "source": [
    "with open(output_file, 'w', newline='') as csv_file:\n",
    "    writer = csv.writer(csv_file)\n",
    "    writer.writerow(['Latitude', 'Longitude', 'Zonal', 'Meridional'])\n",
    "    for latitude, longitude, zonal, meridional in zip(latitudes, longitudes, values_zonal, values_meridional):\n",
    "        writer.writerow([latitude, longitude, zonal, meridional])"
   ]
  },
  {
   "cell_type": "code",
   "execution_count": 8,
   "metadata": {},
   "outputs": [],
   "source": [
    "import pandas as pd"
   ]
  },
  {
   "cell_type": "code",
   "execution_count": 9,
   "metadata": {},
   "outputs": [],
   "source": [
    "df = pd.read_csv('output.csv')"
   ]
  },
  {
   "cell_type": "code",
   "execution_count": 10,
   "metadata": {},
   "outputs": [
    {
     "data": {
      "text/plain": [
       "259560"
      ]
     },
     "execution_count": 10,
     "metadata": {},
     "output_type": "execute_result"
    }
   ],
   "source": [
    "len(df.index)"
   ]
  }
 ],
 "metadata": {
  "kernelspec": {
   "display_name": "Python 3",
   "language": "python",
   "name": "python3"
  },
  "language_info": {
   "codemirror_mode": {
    "name": "ipython",
    "version": 3
   },
   "file_extension": ".py",
   "mimetype": "text/x-python",
   "name": "python",
   "nbconvert_exporter": "python",
   "pygments_lexer": "ipython3",
   "version": "3.10.12"
  },
  "orig_nbformat": 4
 },
 "nbformat": 4,
 "nbformat_minor": 2
}

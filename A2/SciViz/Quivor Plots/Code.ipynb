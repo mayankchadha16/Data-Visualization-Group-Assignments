{
 "cells": [
  {
   "cell_type": "code",
   "execution_count": 1,
   "metadata": {},
   "outputs": [],
   "source": [
    "import csv\n",
    "import re\n",
    "\n",
    "input_file1 = ['Z_20100101.txt', 'Z_20100110.txt', 'Z_20100120.txt', 'Z_20100201.txt', 'Z_20100210.txt', 'Z_20100220.txt', 'Z_20100301.txt', 'Z_20100310.txt', 'Z_20100320.txt']\n",
    "input_file2 = ['M_20100101.txt', 'M_20100110.txt', 'M_20100120.txt', 'M_20100201.txt', 'M_20100210.txt', 'M_20100220.txt', 'M_20100301.txt', 'M_20100310.txt', 'M_20100320.txt']\n",
    "output_file = ['2010-01-01.csv', '2010-01-10.csv', '2010-01-20.csv', '2010-02-01.csv', '2010-02-10.csv', '2010-02-20.csv', '2010-03-01.csv', '2010-03-10.csv', '2010-03-20.csv']\n",
    "\n",
    "latitudes = []\n",
    "longitudes = []"
   ]
  },
  {
   "cell_type": "code",
   "execution_count": 2,
   "metadata": {},
   "outputs": [
    {
     "data": {
      "text/plain": [
       "''"
      ]
     },
     "execution_count": 2,
     "metadata": {},
     "output_type": "execute_result"
    }
   ],
   "source": [
    "with open(\"./data/\" + input_file1[0], 'r') as file:\n",
    "    lines = file.readlines()\n",
    "\n",
    "headers = re.split(r'\\s+', lines[0])[1:]  \n",
    "row_labels = [line.split('\\t')[0] for line in lines[1:]]\n",
    "\n",
    "# row_labels = [x[:-1] for x in row_labels]\n",
    "# headers = [x[:-1] for x in headers]\n",
    "\n",
    "headers.pop()"
   ]
  },
  {
   "cell_type": "code",
   "execution_count": 3,
   "metadata": {},
   "outputs": [],
   "source": [
    "for label in row_labels:\n",
    "    for header in headers:\n",
    "        # print(label)\n",
    "        if(label[-1] == 'S'):\n",
    "            temp = label[:-1]\n",
    "            latitudes.append(float(temp) * -1)\n",
    "        else:\n",
    "            temp = label[:-1]\n",
    "            latitudes.append(float(temp))\n",
    "\n",
    "        # print(header)\n",
    "        if(header[-1] == 'E'):\n",
    "            temp = header[:-1]\n",
    "            longitudes.append(float(temp))\n",
    "        else:\n",
    "            temp = header[:-1]\n",
    "            longitudes.append(float(temp) * -1)"
   ]
  },
  {
   "cell_type": "code",
   "execution_count": 4,
   "metadata": {},
   "outputs": [],
   "source": [
    "for i in range(len(input_file1)):\n",
    "    values_zonal = []\n",
    "    values_meridional = []\n",
    "\n",
    "    # Opening zonal data file\n",
    "    with open(\"./data/\" + input_file1[i], 'r') as file:\n",
    "        lines = file.readlines()\n",
    "\n",
    "    mini = 100000000\n",
    "    for line in lines[1:]:\n",
    "        values_per_row = line.split('\\t')[1:]\n",
    "        mini = min(mini, len(values_per_row))\n",
    "        values_zonal.extend(values_per_row)\n",
    "    values_zonal = [float(ele) for ele in values_zonal]\n",
    "\n",
    "    # Opening meridional data file\n",
    "    with open(\"./data/\" + input_file2[i], 'r') as file:\n",
    "        lines = file.readlines()\n",
    "\n",
    "    mini = 100000000\n",
    "    for line in lines[1:]:\n",
    "        values_per_row = line.split('\\t')[1:]\n",
    "        mini = min(mini, len(values_per_row))\n",
    "        values_meridional.extend(values_per_row)\n",
    "    values_meridional = [float(ele) for ele in values_meridional]\n",
    "\n",
    "    # Creating the .csv file\n",
    "    with open(\"./output/\" + output_file[i], 'w', newline='') as csv_file:\n",
    "        writer = csv.writer(csv_file)\n",
    "        writer.writerow(['Latitude', 'Longitude', 'Zonal', 'Meridional'])\n",
    "        for latitude, longitude, zonal, meridional in zip(latitudes, longitudes, values_zonal, values_meridional):\n",
    "            writer.writerow([latitude, longitude, zonal, meridional])\n",
    "\n"
   ]
  }
 ],
 "metadata": {
  "kernelspec": {
   "display_name": "Python 3",
   "language": "python",
   "name": "python3"
  },
  "language_info": {
   "codemirror_mode": {
    "name": "ipython",
    "version": 3
   },
   "file_extension": ".py",
   "mimetype": "text/x-python",
   "name": "python",
   "nbconvert_exporter": "python",
   "pygments_lexer": "ipython3",
   "version": "3.10.12"
  },
  "orig_nbformat": 4
 },
 "nbformat": 4,
 "nbformat_minor": 2
}
